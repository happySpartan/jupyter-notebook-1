{
 "cells": [
  {
   "cell_type": "code",
   "execution_count": null,
   "metadata": {
    "dotnet_interactive": {
     "language": "csharp"
    },
    "polyglot_notebook": {
     "kernelName": "csharp"
    },
    "vscode": {
     "languageId": "polyglot-notebook"
    }
   },
   "outputs": [],
   "source": [
    "---\n",
    "title: \"Untitled\"\n",
    "format: html\n",
    "---"
   ]
  },
  {
   "cell_type": "code",
   "execution_count": 1,
   "metadata": {
    "dotnet_interactive": {
     "language": "csharp"
    },
    "polyglot_notebook": {
     "kernelName": "csharp"
    },
    "vscode": {
     "languageId": "polyglot-notebook"
    }
   },
   "outputs": [
    {
     "ename": "Error",
     "evalue": "(1,1): error CS1024: Preprocessor directive expected\r\n(2,1): error CS1024: Preprocessor directive expected\r\n(3,38): error CS1002: ; expected",
     "output_type": "error",
     "traceback": [
      "(1,1): error CS1024: Preprocessor directive expected\r\n",
      "(2,1): error CS1024: Preprocessor directive expected\r\n",
      "(3,38): error CS1002: ; expected"
     ]
    }
   ],
   "source": [
    "# | label: fig-polar\n",
    "# | fig-cap: \"A line plot on a polar axis\"\n",
    "Get-Process | Get-Member -MemberType Properties\n"
   ]
  },
  {
   "cell_type": "markdown",
   "metadata": {},
   "source": [
    "Kusto Query Language (KQL) is a *read-only* language that is used to query data in:\n",
    "- Azure Data Explorer\n",
    "- Azure Monitor\n",
    "- Azure Log Analytics\n",
    "- Azure Application Insights \n",
    "- Azure Graph Explorer\n",
    "\n",
    "![](20240413163521.png)\n",
    "\n",
    "It is based on a subset of the SQL language. KQL is used across many Microsoft services and is a great tool for querying data. This guide will help you get started with KQL.\n",
    "\n",
    "The name Kusto is derived from the Azure Data Explorer service, which was formerly known as \"Kusto\". The language itself is called KQL.\n",
    "\n",
    "Kusto is a reference to a series of technologies for storing and analyzing big data. The Kusto Query Language (KQL) is a read-only language that is used to query data in Azure Data Explorer. It is based on a subset of the SQL language. KQL is used across many Microsoft services and is a great tool for querying data. This guide will help you get started with KQL.\n"
   ]
  },
  {
   "cell_type": "code",
   "execution_count": 5,
   "metadata": {
    "dotnet_interactive": {
     "language": "csharp"
    },
    "polyglot_notebook": {
     "kernelName": "csharp"
    },
    "vscode": {
     "languageId": "polyglot-notebook"
    }
   },
   "outputs": [
    {
     "name": "stderr",
     "output_type": "stream",
     "text": [
      "UsageError: Cell magic `%%csharp` not found.\n"
     ]
    }
   ],
   "source": [
    "%%csharp\n",
    "using System;\n",
    "\n",
    "namespace HelloWorld\n",
    "{\n",
    "  class Program\n",
    "  {\n",
    "    static void Main(string[] args)\n",
    "    {\n",
    "      Console.WriteLine(\"Hello World!\");    \n",
    "    }\n",
    "  }\n",
    "}"
   ]
  },
  {
   "cell_type": "code",
   "execution_count": null,
   "metadata": {
    "dotnet_interactive": {
     "language": "csharp"
    },
    "polyglot_notebook": {
     "kernelName": "csharp"
    },
    "vscode": {
     "languageId": "polyglot-notebook"
    }
   },
   "outputs": [],
   "source": [
    "%%powershell\n"
   ]
  },
  {
   "cell_type": "markdown",
   "metadata": {},
   "source": []
  },
  {
   "cell_type": "code",
   "execution_count": null,
   "metadata": {
    "dotnet_interactive": {
     "language": "csharp"
    },
    "polyglot_notebook": {
     "kernelName": "csharp"
    },
    "vscode": {
     "languageId": "polyglot-notebook"
    }
   },
   "outputs": [],
   "source": []
  }
 ],
 "metadata": {
  "kernelspec": {
   "display_name": "Python 3 (ipykernel)",
   "language": "python",
   "name": "python3"
  },
  "language_info": {
   "codemirror_mode": {
    "name": "ipython",
    "version": 3
   },
   "file_extension": ".py",
   "mimetype": "text/x-python",
   "name": "python",
   "nbconvert_exporter": "python",
   "pygments_lexer": "ipython3",
   "version": "3.12.2"
  }
 },
 "nbformat": 4,
 "nbformat_minor": 4
}
