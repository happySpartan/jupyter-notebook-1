{
 "cells": [
  {
   "cell_type": "code",
   "execution_count": 6,
   "metadata": {
    "dotnet_interactive": {
     "language": "http"
    },
    "polyglot_notebook": {
     "kernelName": "http"
    },
    "vscode": {
     "languageId": "polyglot-notebook"
    }
   },
   "outputs": [
    {
     "data": {
      "text/html": [
       "<div class=\"http-response-message-container\"><style type=\"text/css\">\r\n",
       "            .http-response-message-container {\r\n",
       "                display: flex;\r\n",
       "                flex-wrap: wrap;\r\n",
       "            }\r\n",
       "\r\n",
       "            .http-response-message-container > div {\r\n",
       "                margin: .5em;\r\n",
       "                padding: 1em;\r\n",
       "                border: 1px solid;\r\n",
       "            }\r\n",
       "\r\n",
       "            .http-response-message-container > div > h2 {\r\n",
       "                margin-top: 0;\r\n",
       "            }\r\n",
       "\r\n",
       "            .http-response-message-container > div > h3 {\r\n",
       "                margin-bottom: 0;\r\n",
       "            }\r\n",
       "\r\n",
       "            .http-response-message-container summary {\r\n",
       "                margin: 1em 0;\r\n",
       "                font-size: 1.17em;\r\n",
       "                font-weight: 700;\r\n",
       "            }\r\n",
       "\r\n",
       "            @keyframes blink {\r\n",
       "                0% {\r\n",
       "                  opacity: .2;\r\n",
       "                }\r\n",
       "                20% {\r\n",
       "                  opacity: 1;\r\n",
       "                }\r\n",
       "                100% {\r\n",
       "                  opacity: .2;\r\n",
       "                }\r\n",
       "            }\r\n",
       "\r\n",
       "            .ellipsis span {\r\n",
       "                animation-name: blink;\r\n",
       "                animation-duration: 1.4s;\r\n",
       "                animation-iteration-count: infinite;\r\n",
       "                animation-fill-mode: both;\r\n",
       "            }\r\n",
       "\r\n",
       "            .ellipsis span:nth-child(2) {\r\n",
       "                animation-delay: .2s;\r\n",
       "            }\r\n",
       "\r\n",
       "            .ellipsis span:nth-child(3) {\r\n",
       "                animation-delay: .4s;\r\n",
       "            }</style><div><h2>Request</h2><hr></hr><h3>GET <a href=\"http://ip.jsontest.com/\">http://ip.jsontest.com/</a> HTTP/1.1</h3><details><summary>Headers</summary><table><thead><tr><th>Name</th><th>Value</th></tr></thead><tbody><tr><td>traceparent</td><td>00-fbfabf5c811a1947d88b7fa6c099f89e-0246cc9a57df93fc-00</td></tr></tbody></table></details><details><summary>Body (application/json, 0 bytes)</summary><pre></pre></details></div><div><h2>Response</h2><hr></hr><h3>HTTP/1.1 200 OK (260.15 ms)</h3><details open=\"True\"><summary>Headers</summary><table><thead><tr><th>Name</th><th>Value</th></tr></thead><tbody><tr><td>Access-Control-Allow-Origin</td><td>*</td></tr><tr><td>X-Cloud-Trace-Context</td><td>fbfabf5c811a1947d88b7fa6c099f89e</td></tr><tr><td>Date</td><td>Sat, 13 Apr 2024 13:49:04 GMT</td></tr><tr><td>Server</td><td>Google; Frontend</td></tr><tr><td>Content-Type</td><td>application/json</td></tr><tr><td>Content-Length</td><td>23</td></tr></tbody></table></details><details open=\"True\"><summary>Body (application/json, 23 bytes)</summary><details class=\"dni-treeview\"><summary><span class=\"dni-code-hint\"><code>{&quot;ip&quot;: &quot;92.79.96.220&quot;}</code></span></summary><div><table><thead><tr></tr></thead><tbody><tr><td>ip</td><td><span>&quot;92.79.96.220&quot;</span></td></tr></tbody></table></div></details></details></div></div><style>\r\n",
       ".dni-code-hint {\r\n",
       "    font-style: italic;\r\n",
       "    overflow: hidden;\r\n",
       "    white-space: nowrap;\r\n",
       "}\r\n",
       ".dni-treeview {\r\n",
       "    white-space: nowrap;\r\n",
       "}\r\n",
       ".dni-treeview td {\r\n",
       "    vertical-align: top;\r\n",
       "    text-align: start;\r\n",
       "}\r\n",
       "details.dni-treeview {\r\n",
       "    padding-left: 1em;\r\n",
       "}\r\n",
       "table td {\r\n",
       "    text-align: start;\r\n",
       "}\r\n",
       "table tr { \r\n",
       "    vertical-align: top; \r\n",
       "    margin: 0em 0px;\r\n",
       "}\r\n",
       "table tr td pre \r\n",
       "{ \r\n",
       "    vertical-align: top !important; \r\n",
       "    margin: 0em 0px !important;\r\n",
       "} \r\n",
       "table th {\r\n",
       "    text-align: start;\r\n",
       "}\r\n",
       "</style>"
      ]
     },
     "metadata": {},
     "output_type": "display_data"
    }
   ],
   "source": [
    "GET http://ip.jsontest.com/"
   ]
  },
  {
   "cell_type": "markdown",
   "metadata": {},
   "source": [
    "Kusto Query Language (KQL) is a *read-only* language that is used to query data in:\n",
    "- Azure Data Explorer\n",
    "- Azure Monitor\n",
    "- Azure Log Analytics\n",
    "- Azure Application Insights \n",
    "- Azure Graph Explorer\n",
    "\n",
    "\n",
    "\n",
    "It is based on a subset of the SQL language. KQL is used across many Microsoft services and is a great tool for querying data. This guide will help you get started with KQL.\n",
    "\n",
    "The name Kusto is derived from the Azure Data Explorer service, which was formerly known as \"Kusto\". The language itself is called KQL.\n",
    "\n",
    "Kusto is a reference to a series of technologies for storing and analyzing big data. The Kusto Query Language (KQL) is a read-only language that is used to query data in Azure Data Explorer. It is based on a subset of the SQL language. KQL is used across many Microsoft services and is a great tool for querying data. This guide will help you get started with KQL."
   ]
  },
  {
   "cell_type": "code",
   "execution_count": 2,
   "metadata": {
    "dotnet_interactive": {
     "language": "javascript"
    },
    "polyglot_notebook": {
     "kernelName": "javascript"
    },
    "vscode": {
     "languageId": "polyglot-notebook"
    }
   },
   "outputs": [
    {
     "name": "stdout",
     "output_type": "stream",
     "text": [
      "\n",
      "   TypeName: System.Diagnostics.Process\n",
      "\n",
      "\u001b[32;1mName                      \u001b[0m\u001b[32;1m MemberType    \u001b[0m\u001b[32;1m Definition\u001b[0m\n",
      "\u001b[32;1m----                      \u001b[0m \u001b[32;1m----------    \u001b[0m \u001b[32;1m----------\u001b[0m\n",
      "Handles                    AliasProperty  Handles = Handlecount\n",
      "Name                       AliasProperty  Name = ProcessName\n",
      "NPM                        AliasProperty  NPM = NonpagedSystemMemorySize64\n",
      "PM                         AliasProperty  PM = PagedMemorySize64\n",
      "SI                         AliasProperty  SI = SessionId\n",
      "VM                         AliasProperty  VM = VirtualMemorySize64\n",
      "WS                         AliasProperty  WS = WorkingSet64\n",
      "Parent                     CodeProperty   System.Object Parent{get=GetParentProcess;}\n",
      "__NounName                 NoteProperty   string __NounName=Process\n",
      "BasePriority               Property       int BasePriority {get;}\n",
      "Container                  Property       System.ComponentModel.IContainer Container {get;}\n",
      "EnableRaisingEvents        Property       bool EnableRaisingEvents {get;set;}\n",
      "ExitCode                   Property       int ExitCode {get;}\n",
      "ExitTime                   Property       datetime ExitTime {get;}\n",
      "Handle                     Property       System.IntPtr Handle {get;}\n",
      "HandleCount                Property       int HandleCount {get;}\n",
      "HasExited                  Property       bool HasExited {get;}\n",
      "Id                         Property       int Id {get;}\n",
      "MachineName                Property       string MachineName {get;}\n",
      "MainModule                 Property       System.Diagnostics.ProcessModule MainModule {get;}\n",
      "MainWindowHandle           Property       System.IntPtr MainWindowHandle {get;}\n",
      "MainWindowTitle            Property       string MainWindowTitle {get;}\n",
      "MaxWorkingSet              Property       System.IntPtr MaxWorkingSet {get;set;}\n",
      "MinWorkingSet              Property       System.IntPtr MinWorkingSet {get;set;}\n",
      "Modules                    Property       System.Diagnostics.ProcessModuleCollection Modules {get;}\n",
      "NonpagedSystemMemorySize   Property       int NonpagedSystemMemorySize {get;}\n",
      "NonpagedSystemMemorySize64 Property       long NonpagedSystemMemorySize64 {get;}\n",
      "PagedMemorySize            Property       int PagedMemorySize {get;}\n",
      "PagedMemorySize64          Property       long PagedMemorySize64 {get;}\n",
      "PagedSystemMemorySize      Property       int PagedSystemMemorySize {get;}\n",
      "PagedSystemMemorySize64    Property       long PagedSystemMemorySize64 {get;}\n",
      "PeakPagedMemorySize        Property       int PeakPagedMemorySize {get;}\n",
      "PeakPagedMemorySize64      Property       long PeakPagedMemorySize64 {get;}\n",
      "PeakVirtualMemorySize      Property       int PeakVirtualMemorySize {get;}\n",
      "PeakVirtualMemorySize64    Property       long PeakVirtualMemorySize64 {get;}\n",
      "PeakWorkingSet             Property       int PeakWorkingSet {get;}\n",
      "PeakWorkingSet64           Property       long PeakWorkingSet64 {get;}\n",
      "PriorityBoostEnabled       Property       bool PriorityBoostEnabled {get;set;}\n",
      "PriorityClass              Property       System.Diagnostics.ProcessPriorityClass PriorityClass {g…\n",
      "PrivateMemorySize          Property       int PrivateMemorySize {get;}\n",
      "PrivateMemorySize64        Property       long PrivateMemorySize64 {get;}\n",
      "PrivilegedProcessorTime    Property       timespan PrivilegedProcessorTime {get;}\n",
      "ProcessName                Property       string ProcessName {get;}\n",
      "ProcessorAffinity          Property       System.IntPtr ProcessorAffinity {get;set;}\n",
      "Responding                 Property       bool Responding {get;}\n",
      "SafeHandle                 Property       Microsoft.Win32.SafeHandles.SafeProcessHandle SafeHandle…\n",
      "SessionId                  Property       int SessionId {get;}\n",
      "Site                       Property       System.ComponentModel.ISite Site {get;set;}\n",
      "StandardError              Property       System.IO.StreamReader StandardError {get;}\n",
      "StandardInput              Property       System.IO.StreamWriter StandardInput {get;}\n",
      "StandardOutput             Property       System.IO.StreamReader StandardOutput {get;}\n",
      "StartInfo                  Property       System.Diagnostics.ProcessStartInfo StartInfo {get;set;}\n",
      "StartTime                  Property       datetime StartTime {get;}\n",
      "SynchronizingObject        Property       System.ComponentModel.ISynchronizeInvoke SynchronizingOb…\n",
      "Threads                    Property       System.Diagnostics.ProcessThreadCollection Threads {get;}\n",
      "TotalProcessorTime         Property       timespan TotalProcessorTime {get;}\n",
      "UserProcessorTime          Property       timespan UserProcessorTime {get;}\n",
      "VirtualMemorySize          Property       int VirtualMemorySize {get;}\n",
      "VirtualMemorySize64        Property       long VirtualMemorySize64 {get;}\n",
      "WorkingSet                 Property       int WorkingSet {get;}\n",
      "WorkingSet64               Property       long WorkingSet64 {get;}\n",
      "CommandLine                ScriptProperty System.Object CommandLine {get=…\n",
      "Company                    ScriptProperty System.Object Company {get=$this.Mainmodule.FileVersionI…\n",
      "CPU                        ScriptProperty System.Object CPU {get=$this.TotalProcessorTime.TotalSec…\n",
      "Description                ScriptProperty System.Object Description {get=$this.Mainmodule.FileVers…\n",
      "FileVersion                ScriptProperty System.Object FileVersion {get=$this.Mainmodule.FileVers…\n",
      "Path                       ScriptProperty System.Object Path {get=$this.Mainmodule.FileName;}\n",
      "Product                    ScriptProperty System.Object Product {get=$this.Mainmodule.FileVersionI…\n",
      "ProductVersion             ScriptProperty System.Object ProductVersion {get=$this.Mainmodule.FileV…\n",
      "\n"
     ]
    }
   ],
   "source": [
    "Get-Process | Get-Member -MemberType Properties"
   ]
  },
  {
   "cell_type": "code",
   "execution_count": null,
   "metadata": {
    "dotnet_interactive": {
     "language": "csharp"
    },
    "polyglot_notebook": {
     "kernelName": "csharp"
    },
    "vscode": {
     "languageId": "polyglot-notebook"
    }
   },
   "outputs": [],
   "source": [
    "! python --versio"
   ]
  }
 ],
 "metadata": {
  "language_info": {
   "name": "python"
  }
 },
 "nbformat": 4,
 "nbformat_minor": 2
}
